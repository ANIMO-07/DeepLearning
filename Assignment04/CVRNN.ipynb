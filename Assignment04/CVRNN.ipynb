{
 "cells": [
  {
   "cell_type": "code",
   "execution_count": 1,
   "metadata": {},
   "outputs": [],
   "source": [
    "import os\n",
    "import random\n",
    "import keras\n",
    "import numpy as np\n",
    "import tensorflow as tf\n",
    "import matplotlib.pyplot as plt\n",
    "\n",
    "from sklearn.metrics import accuracy_score, confusion_matrix"
   ]
  },
  {
   "cell_type": "code",
   "execution_count": 2,
   "metadata": {},
   "outputs": [],
   "source": [
    "classes = [\"hI\", \"ka\", \"rI\", \"sa\", \"tI\"]\n",
    "\n",
    "def getCVData(folder):\n",
    "\tdata = []\n",
    "\n",
    "\tfor k in range(5):\n",
    "\t\tfor i in os.listdir(f\"./CV_Data/{classes[k]}/{folder}\"):\n",
    "\n",
    "\t\t\twith open(f\"./CV_Data/{classes[k]}/{folder}/{i}\") as f:\n",
    "\t\t\t\tfile = f.readlines()\n",
    "\n",
    "\t\t\t\tvec = []\n",
    "\t\t\t\tfor line in file:\n",
    "\t\t\t\t\tvec.append([float(x) for x in line.rstrip().split()])\n",
    "\n",
    "\t\t\t\tlabel = [0, 0, 0, 0, 0]\n",
    "\t\t\t\tlabel[k] = 1\n",
    "\n",
    "\t\t\t\tvec = tf.constant(vec)\n",
    "\t\t\t\t# vec = tf.RaggedTensor.from_uniform_row_length(vec, uniform_row_length=39)\n",
    "\n",
    "\t\t\t\tletter = [label, vec]\n",
    "\t\t\t\tdata.append(letter)\n",
    "\t\n",
    "\trandom.shuffle(data)\n",
    "\treturn data"
   ]
  },
  {
   "cell_type": "code",
   "execution_count": 3,
   "metadata": {},
   "outputs": [],
   "source": [
    "train = getCVData(\"Train\")\n",
    "test = getCVData(\"Test\")"
   ]
  },
  {
   "cell_type": "code",
   "execution_count": 4,
   "metadata": {},
   "outputs": [],
   "source": [
    "def split(data):\n",
    "\txdata = []\n",
    "\tydata = []\n",
    "\tlens = []\n",
    "\n",
    "\tfor i in range(len(data)):\n",
    "\t\txdata.extend(data[i][1])\n",
    "\t\tlens.append(len(data[i][1]))\n",
    "\t\tydata.append(data[i][0])\n",
    "\n",
    "\txdata = tf.RaggedTensor.from_row_lengths(xdata, row_lengths=lens)\n",
    "\tydata = tf.constant(ydata)\n",
    "\treturn xdata, ydata"
   ]
  },
  {
   "cell_type": "code",
   "execution_count": 5,
   "metadata": {},
   "outputs": [],
   "source": [
    "xtrain, ytrain = split(train)\n",
    "xtest, ytest = split(test)"
   ]
  },
  {
   "cell_type": "code",
   "execution_count": 6,
   "metadata": {},
   "outputs": [
    {
     "name": "stdout",
     "output_type": "stream",
     "text": [
      "Epoch 1/1000\n",
      "45/45 - 29s - loss: 1.2767 - accuracy: 0.4524 - 29s/epoch - 635ms/step\n",
      "Epoch 2/1000\n",
      "45/45 - 23s - loss: 0.9521 - accuracy: 0.5879 - 23s/epoch - 517ms/step\n",
      "Epoch 3/1000\n",
      "45/45 - 23s - loss: 0.8589 - accuracy: 0.6414 - 23s/epoch - 514ms/step\n",
      "Epoch 4/1000\n",
      "45/45 - 23s - loss: 0.7956 - accuracy: 0.6789 - 23s/epoch - 509ms/step\n",
      "Epoch 5/1000\n",
      "45/45 - 23s - loss: 0.7419 - accuracy: 0.7047 - 23s/epoch - 505ms/step\n",
      "Epoch 6/1000\n",
      "45/45 - 23s - loss: 0.6889 - accuracy: 0.7304 - 23s/epoch - 510ms/step\n",
      "Epoch 7/1000\n",
      "45/45 - 24s - loss: 0.6347 - accuracy: 0.7679 - 24s/epoch - 525ms/step\n",
      "Epoch 8/1000\n",
      "45/45 - 26s - loss: 0.5741 - accuracy: 0.8061 - 26s/epoch - 575ms/step\n",
      "Epoch 9/1000\n",
      "45/45 - 25s - loss: 0.5346 - accuracy: 0.8172 - 25s/epoch - 557ms/step\n",
      "Epoch 10/1000\n",
      "45/45 - 23s - loss: 0.4905 - accuracy: 0.8478 - 23s/epoch - 504ms/step\n",
      "Epoch 11/1000\n",
      "45/45 - 15s - loss: 0.4536 - accuracy: 0.8617 - 15s/epoch - 338ms/step\n",
      "Epoch 12/1000\n",
      "45/45 - 7s - loss: 0.4065 - accuracy: 0.8707 - 7s/epoch - 162ms/step\n",
      "Epoch 13/1000\n",
      "45/45 - 8s - loss: 0.3850 - accuracy: 0.8867 - 8s/epoch - 179ms/step\n",
      "Epoch 14/1000\n",
      "45/45 - 7s - loss: 0.3347 - accuracy: 0.9152 - 7s/epoch - 164ms/step\n",
      "Epoch 15/1000\n",
      "45/45 - 7s - loss: 0.3090 - accuracy: 0.9173 - 7s/epoch - 165ms/step\n",
      "Epoch 16/1000\n",
      "45/45 - 7s - loss: 0.2783 - accuracy: 0.9305 - 7s/epoch - 161ms/step\n",
      "Epoch 17/1000\n",
      "45/45 - 7s - loss: 0.2410 - accuracy: 0.9451 - 7s/epoch - 159ms/step\n",
      "Epoch 18/1000\n",
      "45/45 - 7s - loss: 0.2083 - accuracy: 0.9548 - 7s/epoch - 158ms/step\n",
      "Epoch 19/1000\n",
      "45/45 - 7s - loss: 0.1774 - accuracy: 0.9722 - 7s/epoch - 162ms/step\n",
      "Epoch 20/1000\n",
      "45/45 - 7s - loss: 0.1963 - accuracy: 0.9604 - 7s/epoch - 160ms/step\n",
      "Epoch 21/1000\n",
      "45/45 - 7s - loss: 0.1465 - accuracy: 0.9764 - 7s/epoch - 161ms/step\n",
      "Epoch 22/1000\n",
      "45/45 - 7s - loss: 0.1059 - accuracy: 0.9910 - 7s/epoch - 159ms/step\n",
      "Epoch 23/1000\n",
      "45/45 - 7s - loss: 0.0998 - accuracy: 0.9889 - 7s/epoch - 159ms/step\n",
      "Epoch 24/1000\n",
      "45/45 - 7s - loss: 0.0854 - accuracy: 0.9931 - 7s/epoch - 162ms/step\n",
      "Epoch 25/1000\n",
      "45/45 - 7s - loss: 0.0895 - accuracy: 0.9910 - 7s/epoch - 164ms/step\n",
      "Epoch 26/1000\n",
      "45/45 - 7s - loss: 0.0651 - accuracy: 0.9951 - 7s/epoch - 160ms/step\n",
      "Epoch 27/1000\n",
      "45/45 - 7s - loss: 0.0569 - accuracy: 0.9944 - 7s/epoch - 161ms/step\n",
      "Epoch 28/1000\n",
      "45/45 - 7s - loss: 0.0437 - accuracy: 0.9979 - 7s/epoch - 166ms/step\n",
      "Epoch 29/1000\n",
      "45/45 - 8s - loss: 0.0342 - accuracy: 0.9979 - 8s/epoch - 170ms/step\n",
      "Epoch 30/1000\n",
      "45/45 - 7s - loss: 0.0297 - accuracy: 0.9986 - 7s/epoch - 166ms/step\n",
      "Epoch 31/1000\n",
      "45/45 - 8s - loss: 0.0247 - accuracy: 0.9993 - 8s/epoch - 167ms/step\n",
      "Epoch 32/1000\n",
      "45/45 - 8s - loss: 0.0209 - accuracy: 0.9993 - 8s/epoch - 167ms/step\n",
      "Epoch 33/1000\n",
      "45/45 - 7s - loss: 0.0184 - accuracy: 0.9993 - 7s/epoch - 167ms/step\n",
      "Epoch 34/1000\n",
      "45/45 - 7s - loss: 0.0159 - accuracy: 1.0000 - 7s/epoch - 163ms/step\n",
      "Epoch 35/1000\n",
      "45/45 - 8s - loss: 0.0148 - accuracy: 1.0000 - 8s/epoch - 179ms/step\n",
      "Epoch 36/1000\n",
      "45/45 - 8s - loss: 0.0133 - accuracy: 1.0000 - 8s/epoch - 173ms/step\n",
      "Epoch 37/1000\n",
      "45/45 - 8s - loss: 0.0120 - accuracy: 1.0000 - 8s/epoch - 167ms/step\n",
      "Epoch 38/1000\n",
      "45/45 - 7s - loss: 0.0109 - accuracy: 1.0000 - 7s/epoch - 162ms/step\n",
      "Epoch 39/1000\n",
      "45/45 - 7s - loss: 0.0100 - accuracy: 1.0000 - 7s/epoch - 166ms/step\n",
      "Epoch 40/1000\n",
      "45/45 - 7s - loss: 0.0093 - accuracy: 1.0000 - 7s/epoch - 165ms/step\n",
      "Epoch 41/1000\n",
      "45/45 - 7s - loss: 0.0085 - accuracy: 1.0000 - 7s/epoch - 164ms/step\n",
      "Epoch 42/1000\n",
      "45/45 - 7s - loss: 0.2036 - accuracy: 0.9236 - 7s/epoch - 165ms/step\n",
      "Epoch 43/1000\n",
      "45/45 - 7s - loss: 0.4029 - accuracy: 0.8575 - 7s/epoch - 167ms/step\n",
      "Epoch 00043: early stopping\n"
     ]
    },
    {
     "data": {
      "image/png": "[encoded data removed]",
      "text/plain": [
       "<Figure size 432x288 with 1 Axes>"
      ]
     },
     "metadata": {
      "needs_background": "light"
     },
     "output_type": "display_data"
    },
    {
     "name": "stdout",
     "output_type": "stream",
     "text": [
      "Train Accuracy: 0.9179986101459346\n",
      "Confusion Matrix\n",
      "[[197   1  10   0   1]\n",
      " [  3 372   3   4   1]\n",
      " [ 27   0 291   0   0]\n",
      " [  3  11   2 326   1]\n",
      " [ 38   0   9   2 137]]\n",
      "\n",
      "Test Accuracy: 0.5583333333333333\n",
      "Confusion Matrix\n",
      "[[23  1 22  1  5]\n",
      " [ 3 75  1 17  0]\n",
      " [34  2 38  1  5]\n",
      " [ 5 21  3 56  1]\n",
      " [18  1 15  1 11]]\n"
     ]
    }
   ],
   "source": [
    "model = keras.Sequential()\n",
    "model.add(keras.layers.SimpleRNN(128, return_sequences=True, batch_input_shape=(None, None, 39)))\n",
    "model.add(keras.layers.SimpleRNN(32, return_sequences=False))\n",
    "model.add(keras.layers.Dense(5, activation='softmax', name=\"OutputLayer\"))\n",
    "\n",
    "\n",
    "es = keras.callbacks.EarlyStopping(monitor='loss', min_delta=1E-4, verbose=2, patience=1)\n",
    "model.compile(optimizer=\"Adam\", loss='categorical_crossentropy', metrics=['accuracy'])\n",
    "history = model.fit(xtrain, ytrain, verbose=2, epochs=1000, callbacks=[es])\n",
    "\n",
    "\n",
    "plt.plot(history.history[\"loss\"])\n",
    "plt.xlabel(\"Epochs\")\n",
    "plt.ylabel(\"Loss\")\n",
    "plt.show()\n",
    "\n",
    "trainpred = model.predict(xtrain)\n",
    "trainpred = np.rint(trainpred)\n",
    "print(\"Train Accuracy:\", accuracy_score(ytrain, trainpred))\n",
    "print(\"Confusion Matrix\")\n",
    "print(confusion_matrix(tf.argmax(ytrain, axis=1), tf.argmax(trainpred, axis=1)))\n",
    "\n",
    "testpred = model.predict(xtest)\n",
    "testpred = np.rint(testpred)\n",
    "print(\"\\nTest Accuracy:\", accuracy_score(ytest, testpred))\n",
    "print(\"Confusion Matrix\")\n",
    "print(confusion_matrix(tf.argmax(ytest, axis=1), tf.argmax(testpred, axis=1)))"
   ]
  },
  {
   "cell_type": "code",
   "execution_count": 7,
   "metadata": {},
   "outputs": [
    {
     "data": {
      "image/png": "[encoded data removed]",
      "text/plain": [
       "<Figure size 432x288 with 1 Axes>"
      ]
     },
     "metadata": {
      "needs_background": "light"
     },
     "output_type": "display_data"
    }
   ],
   "source": [
    "plt.plot(history.history[\"loss\"])\n",
    "plt.xlabel(\"Epochs\")\n",
    "plt.ylabel(\"Loss\")\n",
    "plt.show()"
   ]
  },
  {
   "cell_type": "code",
   "execution_count": null,
   "metadata": {},
   "outputs": [],
   "source": []
  }
 ],
 "metadata": {
  "interpreter": {
   "hash": "bafe94be759f0b50bda93a8f1025ab7fdba8e89612bbc2842d3f038050e6fe48"
  },
  "kernelspec": {
   "display_name": "Python 3.9.9 64-bit",
   "language": "python",
   "name": "python3"
  },
  "language_info": {
   "codemirror_mode": {
    "name": "ipython",
    "version": 3
   },
   "file_extension": ".py",
   "mimetype": "text/x-python",
   "name": "python",
   "nbconvert_exporter": "python",
   "pygments_lexer": "ipython3",
   "version": "3.9.9"
  },
  "orig_nbformat": 4
 },
 "nbformat": 4,
 "nbformat_minor": 2
}
