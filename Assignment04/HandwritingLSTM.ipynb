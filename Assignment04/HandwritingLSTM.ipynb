{
 "cells": [
  {
   "cell_type": "code",
   "execution_count": 30,
   "metadata": {},
   "outputs": [],
   "source": [
    "import os\n",
    "import keras\n",
    "import random\n",
    "import numpy as np\n",
    "import tensorflow as tf\n",
    "import matplotlib.pyplot as plt\n",
    "\n",
    "from sklearn.metrics import accuracy_score, confusion_matrix"
   ]
  },
  {
   "cell_type": "code",
   "execution_count": 6,
   "metadata": {},
   "outputs": [],
   "source": [
    "classes = [\"a\", \"ai\", \"chA\", \"lA\", \"tA\"]\n",
    "\n",
    "def getHandritingData(folder):\n",
    "\tdata = []\n",
    "\n",
    "\tfor k in range(5):\n",
    "\t\tfor i in os.listdir(f\"./Handwriting_Data/{classes[k]}/{folder}\"):\n",
    "\n",
    "\t\t\twith open(f\"./Handwriting_Data/{classes[k]}/{folder}/{i}\") as f:\n",
    "\t\t\t\tcoords = np.array([float(x) for x in f.readline().rstrip().split()])\n",
    "\n",
    "\t\t\t\tcoordnums = int(coords[0])\n",
    "\t\t\t\txcoords = coords[1::2]\n",
    "\t\t\t\tycoords = coords[2::2]\n",
    "\n",
    "\t\t\t\trangex = max(xcoords) - min(xcoords)\n",
    "\t\t\t\txcoords = (xcoords - min(xcoords))/rangex\t\t#min-max normalisation\n",
    "\n",
    "\t\t\t\trangey = max(ycoords) - min(ycoords)\n",
    "\t\t\t\tycoords = (ycoords - min(ycoords))/rangey\n",
    "\n",
    "\t\t\t\tlabel = [0, 0, 0, 0, 0]\n",
    "\t\t\t\tlabel[k] = 1\n",
    "\n",
    "\t\t\t\tletter = [label, coordnums, xcoords, ycoords]\n",
    "\t\t\t\tdata.append(letter)\n",
    "\t\n",
    "\trandom.shuffle(data)\n",
    "\treturn data"
   ]
  },
  {
   "cell_type": "code",
   "execution_count": 7,
   "metadata": {},
   "outputs": [],
   "source": [
    "train = getHandritingData(\"train\")\n",
    "test = getHandritingData(\"dev\")"
   ]
  },
  {
   "cell_type": "code",
   "execution_count": 10,
   "metadata": {},
   "outputs": [],
   "source": [
    "def split(data):\n",
    "\txdata = []\n",
    "\tydata = []\n",
    "\tfor i in range(len(data)):\n",
    "\t\txdata.append(data[i][1:])\n",
    "\t\tydata.append(data[i][0])\n",
    "\n",
    "\treturn xdata, ydata"
   ]
  },
  {
   "cell_type": "code",
   "execution_count": 11,
   "metadata": {},
   "outputs": [],
   "source": [
    "xtrain, ytrain = split(train)\n",
    "xtest, ytest = split(test)"
   ]
  },
  {
   "cell_type": "code",
   "execution_count": 12,
   "metadata": {},
   "outputs": [],
   "source": [
    "def drawletter(letter):\n",
    "\tplt.plot(letter[1], letter[2], color=\"black\", linewidth=5)\n",
    "\tplt.axis(\"off\")\n",
    "\tplt.show()"
   ]
  },
  {
   "cell_type": "code",
   "execution_count": null,
   "metadata": {},
   "outputs": [],
   "source": [
    "for i in range(5):\n",
    "\tnum = 0\n",
    "\n",
    "\tfor n in range(len(ytrain)):\n",
    "\t\tif num == 5:\n",
    "\t\t\tbreak\n",
    "\t\tif ytrain[n][i] == 1:\n",
    "\t\t\tdrawletter(xtrain[n])\n",
    "\t\t\tnum+=1\n"
   ]
  },
  {
   "cell_type": "code",
   "execution_count": 24,
   "metadata": {},
   "outputs": [],
   "source": [
    "def TensorConversion(x, y):\n",
    "\txout = []\n",
    "\tlens = []\n",
    "\n",
    "\tfor x_ in x:\n",
    "\t\tlens.append(x_[0])\n",
    "\t\tchar = np.array([x_[1], x_[2]]).T\n",
    "\t\txout.extend(tf.constant(char))\n",
    "\t\n",
    "\txout = tf.RaggedTensor.from_row_lengths(xout, row_lengths=lens)\n",
    "\tyout = tf.constant(y)\n",
    "\n",
    "\treturn xout, yout"
   ]
  },
  {
   "cell_type": "code",
   "execution_count": 27,
   "metadata": {},
   "outputs": [],
   "source": [
    "xtrain, ytrain = TensorConversion(xtrain, ytrain)\n",
    "xtest, ytest = TensorConversion(xtest, ytest)"
   ]
  },
  {
   "cell_type": "code",
   "execution_count": 33,
   "metadata": {},
   "outputs": [
    {
     "name": "stdout",
     "output_type": "stream",
     "text": [
      "Epoch 1/1000\n",
      "11/11 - 7s - loss: 1.5728 - accuracy: 0.2023 - 7s/epoch - 630ms/step\n",
      "Epoch 2/1000\n",
      "11/11 - 6s - loss: 1.4959 - accuracy: 0.2283 - 6s/epoch - 540ms/step\n",
      "Epoch 3/1000\n",
      "11/11 - 6s - loss: 1.4631 - accuracy: 0.3931 - 6s/epoch - 549ms/step\n",
      "Epoch 4/1000\n",
      "11/11 - 6s - loss: 1.4294 - accuracy: 0.4711 - 6s/epoch - 535ms/step\n",
      "Epoch 5/1000\n",
      "11/11 - 6s - loss: 1.2379 - accuracy: 0.5318 - 6s/epoch - 533ms/step\n",
      "Epoch 6/1000\n",
      "11/11 - 6s - loss: 1.0475 - accuracy: 0.5723 - 6s/epoch - 544ms/step\n",
      "Epoch 7/1000\n",
      "11/11 - 6s - loss: 0.8456 - accuracy: 0.6676 - 6s/epoch - 529ms/step\n",
      "Epoch 8/1000\n",
      "11/11 - 6s - loss: 0.7582 - accuracy: 0.7601 - 6s/epoch - 513ms/step\n",
      "Epoch 9/1000\n",
      "11/11 - 6s - loss: 0.6850 - accuracy: 0.7717 - 6s/epoch - 503ms/step\n",
      "Epoch 10/1000\n",
      "11/11 - 6s - loss: 0.5889 - accuracy: 0.8237 - 6s/epoch - 535ms/step\n",
      "Epoch 11/1000\n",
      "11/11 - 6s - loss: 0.5869 - accuracy: 0.7948 - 6s/epoch - 518ms/step\n",
      "Epoch 12/1000\n",
      "11/11 - 6s - loss: 0.6446 - accuracy: 0.7803 - 6s/epoch - 529ms/step\n",
      "Epoch 13/1000\n",
      "11/11 - 6s - loss: 0.6221 - accuracy: 0.7370 - 6s/epoch - 544ms/step\n",
      "Epoch 00013: early stopping\n"
     ]
    },
    {
     "data": {
      "image/png": "[encoded data removed]",
      "text/plain": [
       "<Figure size 432x288 with 1 Axes>"
      ]
     },
     "metadata": {
      "needs_background": "light"
     },
     "output_type": "display_data"
    },
    {
     "name": "stdout",
     "output_type": "stream",
     "text": [
      "Train Accuracy: 0.7485549132947977\n",
      "Confusion Matrix\n",
      "[[63  6  0  0  0]\n",
      " [ 4 66  0  0  0]\n",
      " [19  0 43  5  3]\n",
      " [16  0  2 43  7]\n",
      " [10  0  0 10 49]]\n",
      "\n",
      "Test Accuracy: 0.91\n",
      "Confusion Matrix\n",
      "[[19  1  0  0  0]\n",
      " [ 1 19  0  0  0]\n",
      " [ 4  0 15  1  0]\n",
      " [ 2  0  0 18  0]\n",
      " [ 0  0  0  0 20]]\n"
     ]
    }
   ],
   "source": [
    "model = keras.Sequential()\n",
    "model.add(keras.layers.LSTM(128, return_sequences=True, batch_input_shape=(None, None, 2)))\n",
    "model.add(keras.layers.LSTM(32, return_sequences=False))\n",
    "model.add(keras.layers.Dense(5, activation='softmax', name=\"OutputLayer\"))\n",
    "\n",
    "\n",
    "es = keras.callbacks.EarlyStopping(monitor='loss', min_delta=1E-4, verbose=2, patience=2)\n",
    "model.compile(optimizer=\"Adam\", loss='categorical_crossentropy', metrics=['accuracy'])\n",
    "history = model.fit(xtrain, ytrain, verbose=2, epochs=1000, callbacks=[es])\n",
    "\n",
    "\n",
    "plt.plot(history.history[\"loss\"])\n",
    "plt.xlabel(\"Epochs\")\n",
    "plt.ylabel(\"Loss\")\n",
    "plt.xticks(range(len(history.history[\"loss\"])))\n",
    "plt.show()\n",
    "\n",
    "trainpred = model.predict(xtrain)\n",
    "trainpred = np.rint(trainpred)\n",
    "print(\"Train Accuracy:\", accuracy_score(ytrain, trainpred))\n",
    "print(\"Confusion Matrix\")\n",
    "print(confusion_matrix(tf.argmax(ytrain, axis=1), tf.argmax(trainpred, axis=1)))\n",
    "\n",
    "testpred = model.predict(xtest)\n",
    "testpred = np.rint(testpred)\n",
    "print(\"\\nTest Accuracy:\", accuracy_score(ytest, testpred))\n",
    "print(\"Confusion Matrix\")\n",
    "print(confusion_matrix(tf.argmax(ytest, axis=1), tf.argmax(testpred, axis=1)))"
   ]
  }
 ],
 "metadata": {
  "interpreter": {
   "hash": "bafe94be759f0b50bda93a8f1025ab7fdba8e89612bbc2842d3f038050e6fe48"
  },
  "kernelspec": {
   "display_name": "Python 3.9.9 64-bit",
   "language": "python",
   "name": "python3"
  },
  "language_info": {
   "codemirror_mode": {
    "name": "ipython",
    "version": 3
   },
   "file_extension": ".py",
   "mimetype": "text/x-python",
   "name": "python",
   "nbconvert_exporter": "python",
   "pygments_lexer": "ipython3",
   "version": "3.9.9"
  },
  "orig_nbformat": 4
 },
 "nbformat": 4,
 "nbformat_minor": 2
}
