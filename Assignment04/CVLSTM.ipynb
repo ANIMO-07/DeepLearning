{
 "cells": [
  {
   "cell_type": "code",
   "execution_count": 63,
   "metadata": {},
   "outputs": [],
   "source": [
    "import os\n",
    "import random\n",
    "import keras\n",
    "import numpy as np\n",
    "import tensorflow as tf\n",
    "import matplotlib.pyplot as plt\n",
    "\n",
    "from sklearn.metrics import accuracy_score, confusion_matrix"
   ]
  },
  {
   "cell_type": "code",
   "execution_count": 35,
   "metadata": {},
   "outputs": [],
   "source": [
    "classes = [\"hI\", \"ka\", \"rI\", \"sa\", \"tI\"]\n",
    "\n",
    "def getCVData(folder):\n",
    "\tdata = []\n",
    "\n",
    "\tfor k in range(5):\n",
    "\t\tfor i in os.listdir(f\"./CV_Data/{classes[k]}/{folder}\"):\n",
    "\n",
    "\t\t\twith open(f\"./CV_Data/{classes[k]}/{folder}/{i}\") as f:\n",
    "\t\t\t\tfile = f.readlines()\n",
    "\n",
    "\t\t\t\tvec = []\n",
    "\t\t\t\tfor line in file:\n",
    "\t\t\t\t\tvec.append([float(x) for x in line.rstrip().split()])\n",
    "\n",
    "\t\t\t\tlabel = [0, 0, 0, 0, 0]\n",
    "\t\t\t\tlabel[k] = 1\n",
    "\n",
    "\t\t\t\tvec = tf.constant(vec)\n",
    "\t\t\t\t# vec = tf.RaggedTensor.from_uniform_row_length(vec, uniform_row_length=39)\n",
    "\n",
    "\t\t\t\tletter = [label, vec]\n",
    "\t\t\t\tdata.append(letter)\n",
    "\t\n",
    "\trandom.shuffle(data)\n",
    "\treturn data"
   ]
  },
  {
   "cell_type": "code",
   "execution_count": 36,
   "metadata": {},
   "outputs": [],
   "source": [
    "train = getCVData(\"Train\")\n",
    "test = getCVData(\"Test\")"
   ]
  },
  {
   "cell_type": "code",
   "execution_count": 41,
   "metadata": {},
   "outputs": [],
   "source": [
    "def split(data):\n",
    "\txdata = []\n",
    "\tydata = []\n",
    "\tlens = []\n",
    "\n",
    "\tfor i in range(len(data)):\n",
    "\t\txdata.extend(data[i][1])\n",
    "\t\tlens.append(len(data[i][1]))\n",
    "\t\tydata.append(data[i][0])\n",
    "\n",
    "\txdata = tf.RaggedTensor.from_row_lengths(xdata, row_lengths=lens)\n",
    "\tydata = tf.constant(ydata)\n",
    "\treturn xdata, ydata"
   ]
  },
  {
   "cell_type": "code",
   "execution_count": 42,
   "metadata": {},
   "outputs": [],
   "source": [
    "xtrain, ytrain = split(train)\n",
    "xtest, ytest = split(test)"
   ]
  },
  {
   "cell_type": "code",
   "execution_count": 64,
   "metadata": {},
   "outputs": [
    {
     "name": "stdout",
     "output_type": "stream",
     "text": [
      "Epoch 1/1000\n",
      "45/45 - 17s - loss: 1.0268 - accuracy: 0.5893 - 17s/epoch - 385ms/step\n",
      "Epoch 2/1000\n",
      "45/45 - 16s - loss: 0.5488 - accuracy: 0.8054 - 16s/epoch - 358ms/step\n",
      "Epoch 3/1000\n",
      "45/45 - 15s - loss: 0.3663 - accuracy: 0.8839 - 15s/epoch - 344ms/step\n",
      "Epoch 4/1000\n",
      "45/45 - 17s - loss: 0.2625 - accuracy: 0.9236 - 17s/epoch - 379ms/step\n",
      "Epoch 5/1000\n",
      "45/45 - 16s - loss: 0.1960 - accuracy: 0.9437 - 16s/epoch - 359ms/step\n",
      "Epoch 6/1000\n",
      "45/45 - 16s - loss: 0.1842 - accuracy: 0.9437 - 16s/epoch - 358ms/step\n",
      "Epoch 7/1000\n",
      "45/45 - 16s - loss: 0.1149 - accuracy: 0.9722 - 16s/epoch - 359ms/step\n",
      "Epoch 8/1000\n",
      "45/45 - 16s - loss: 0.0901 - accuracy: 0.9785 - 16s/epoch - 355ms/step\n",
      "Epoch 9/1000\n",
      "45/45 - 16s - loss: 0.0707 - accuracy: 0.9826 - 16s/epoch - 360ms/step\n",
      "Epoch 10/1000\n",
      "45/45 - 16s - loss: 0.0576 - accuracy: 0.9861 - 16s/epoch - 364ms/step\n",
      "Epoch 11/1000\n",
      "45/45 - 16s - loss: 0.0389 - accuracy: 0.9924 - 16s/epoch - 363ms/step\n",
      "Epoch 12/1000\n",
      "45/45 - 16s - loss: 0.0517 - accuracy: 0.9882 - 16s/epoch - 363ms/step\n",
      "Epoch 00012: early stopping\n"
     ]
    },
    {
     "data": {
      "image/png": "[encoded data removed]",
      "text/plain": [
       "<Figure size 432x288 with 1 Axes>"
      ]
     },
     "metadata": {
      "needs_background": "light"
     },
     "output_type": "display_data"
    },
    {
     "name": "stdout",
     "output_type": "stream",
     "text": [
      "Train Accuracy: 0.990271021542738\n",
      "Confusion Matrix\n",
      "[[201   0   8   0   0]\n",
      " [  1 382   0   0   0]\n",
      " [  1   0 316   0   1]\n",
      " [  0   0   0 343   0]\n",
      " [  0   0   0   0 186]]\n",
      "\n",
      "Test Accuracy: 0.8805555555555555\n",
      "Confusion Matrix\n",
      "[[42  1  4  0  5]\n",
      " [ 0 90  2  4  0]\n",
      " [ 5  1 69  0  5]\n",
      " [ 0  5  1 79  1]\n",
      " [ 3  1  4  1 37]]\n"
     ]
    }
   ],
   "source": [
    "model = keras.Sequential()\n",
    "model.add(keras.layers.LSTM(128, return_sequences=True, batch_input_shape=(None, None, 39)))\n",
    "model.add(keras.layers.LSTM(32, return_sequences=False))\n",
    "model.add(keras.layers.Dense(5, activation='softmax', name=\"OutputLayer\"))\n",
    "\n",
    "\n",
    "es = keras.callbacks.EarlyStopping(monitor='loss', min_delta=1E-4, verbose=2, patience=2)\n",
    "model.compile(optimizer=\"Adam\", loss='categorical_crossentropy', metrics=['accuracy'])\n",
    "history = model.fit(xtrain, ytrain, verbose=2, epochs=1000, callbacks=[es])\n",
    "\n",
    "\n",
    "plt.plot(history.history[\"loss\"])\n",
    "plt.xlabel(\"Epochs\")\n",
    "plt.ylabel(\"Loss\")\n",
    "plt.xticks(range(1, len(history.history[\"loss\"]) + 1))\n",
    "plt.show()\n",
    "\n",
    "trainpred = model.predict(xtrain)\n",
    "trainpred = np.rint(trainpred)\n",
    "print(\"Train Accuracy:\", accuracy_score(ytrain, trainpred))\n",
    "print(\"Confusion Matrix\")\n",
    "print(confusion_matrix(tf.argmax(ytrain, axis=1), tf.argmax(trainpred, axis=1)))\n",
    "\n",
    "testpred = model.predict(xtest)\n",
    "testpred = np.rint(testpred)\n",
    "print(\"\\nTest Accuracy:\", accuracy_score(ytest, testpred))\n",
    "print(\"Confusion Matrix\")\n",
    "print(confusion_matrix(tf.argmax(ytest, axis=1), tf.argmax(testpred, axis=1)))"
   ]
  }
 ],
 "metadata": {
  "interpreter": {
   "hash": "bafe94be759f0b50bda93a8f1025ab7fdba8e89612bbc2842d3f038050e6fe48"
  },
  "kernelspec": {
   "display_name": "Python 3.9.9 64-bit",
   "language": "python",
   "name": "python3"
  },
  "language_info": {
   "codemirror_mode": {
    "name": "ipython",
    "version": 3
   },
   "file_extension": ".py",
   "mimetype": "text/x-python",
   "name": "python",
   "nbconvert_exporter": "python",
   "pygments_lexer": "ipython3",
   "version": "3.9.9"
  },
  "orig_nbformat": 4
 },
 "nbformat": 4,
 "nbformat_minor": 2
}
